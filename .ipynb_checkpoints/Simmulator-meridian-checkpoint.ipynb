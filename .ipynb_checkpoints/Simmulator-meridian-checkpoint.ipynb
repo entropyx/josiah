{
 "cells": [
  {
   "cell_type": "code",
   "execution_count": 1,
   "id": "9c73a534-a65d-4f61-97e7-0cf2eceba183",
   "metadata": {},
   "outputs": [
    {
     "name": "stdout",
     "output_type": "stream",
     "text": [
      "Collecting google-meridian@ git+https://github.com/google/meridian.git (from google-meridian[colab]@ git+https://github.com/google/meridian.git)\n",
      "  Cloning https://github.com/google/meridian.git to /private/var/folders/q5/fqrty7td6kl2szjpqjp9v56r0000gn/T/pip-install-_3nxww20/google-meridian_461e60b35bd046858c895a16735c0261\n",
      "  Running command git clone --filter=blob:none --quiet https://github.com/google/meridian.git /private/var/folders/q5/fqrty7td6kl2szjpqjp9v56r0000gn/T/pip-install-_3nxww20/google-meridian_461e60b35bd046858c895a16735c0261\n",
      "  Resolved https://github.com/google/meridian.git to commit 559103f4768906464162e25ca82aebd1a54c5ef5\n",
      "  Installing build dependencies ... \u001b[?2done\n",
      "\u001b[?25h  Getting requirements to build wheel ... \u001b[?25ldone\n",
      "\u001b[?25h  Preparing metadata (pyproject.toml) ... \u001b[?25ldone\n",
      "\u001b[?25hCollecting arviz (from google-meridian@ git+https://github.com/google/meridian.git->google-meridian[colab]@ git+https://github.com/google/meridian.git)\n",
      "  Using cached arviz-0.20.0-py3-none-any.whl.metadata (8.8 kB)\n",
      "Collecting altair<5,>=4.2.0 (from google-meridian@ git+https://github.com/google/meridian.git->google-meridian[colab]@ git+https://github.com/google/meridian.git)\n",
      "  Using cached altair-4.2.2-py3-none-any.whl.metadata (13 kB)\n",
      "Collecting immutabledict (from google-meridian@ git+https://github.com/google/meridian.git->google-meridian[colab]@ git+https://github.com/google/meridian.git)\n",
      "  Using cached immutabledict-4.2.1-py3-none-any.whl.metadata (3.5 kB)\n",
      "Collecting joblib (from google-meridian@ git+https://github.com/google/meridian.git->google-meridian[colab]@ git+https://github.com/google/meridian.git)\n",
      "  Using cached joblib-1.4.2-py3-none-any.whl.metadata (5.4 kB)\n",
      "Collecting numpy<2,>=1.26 (from google-meridian@ git+https://github.com/google/meridian.git->google-meridian[colab]@ git+https://github.com/google/meridian.git)\n",
      "  Using cached numpy-1.26.4.tar.gz (15.8 MB)\n",
      "  Installing build dependencies ... \u001b[?2done\n",
      "\u001b[?25h  Getting requirements to build wheel ... \u001b[?25ldone\n",
      "\u001b[?25h  Installing backend dependencies ... \u001b[?25ldone\n",
      "done\n",
      "\u001b[?25hCollecting pandas<3,>=2.2 (from google-meridian@ git+https://github.com/google/meridian.git->google-meridian[colab]@ git+https://github.com/google/meridian.git)\n",
      "  Using cached pandas-2.2.3-cp313-cp313-macosx_11_0_arm64.whl.metadata (89 kB)\n",
      "Collecting scipy<1.13,>=1.12.0 (from google-meridian@ git+https://github.com/google/meridian.git->google-meridian[colab]@ git+https://github.com/google/meridian.git)\n",
      "  Using cached scipy-1.12.0.tar.gz (56.8 MB)\n",
      "  Installing build dependencies ... done\n",
      "\u001b[?25h  Getting requirements to build wheel ... \u001b[?25ldone\n",
      "\u001b[?25h  Installing backend dependencies ... \u001b[?25ldone\n",
      "\u001b[?25h  Preparing metadata (pyproject.toml) ... \u001b[?25error\n",
      "  \u001b[1;31merror\u001b[0m: \u001b[1msubprocess-exited-with-error\u001b[0m\n",
      "  \n",
      "  \u001b[31m×\u001b[0m \u001b[32mPreparing metadata \u001b[0m\u001b[1;32m(\u001b[0m\u001b[32mpyproject.toml\u001b[0m\u001b[1;32m)\u001b[0m did not run successfully.\n",
      "  \u001b[31m│\u001b[0m exit code: \u001b[1;36m1\u001b[0m\n",
      "  \u001b[31m╰─>\u001b[0m \u001b[31m[28 lines of output]\u001b[0m\n",
      "  \u001b[31m   \u001b[0m \u001b[36m\u001b[1m+ meson setup /private/var/folders/q5/fqrty7td6kl2szjpqjp9v56r0000gn/T/pip-install-_3nxww20/scipy_31ff82658479466da63099d16ece80eb /private/var/folders/q5/fqrty7td6kl2szjpqjp9v56r0000gn/T/pip-install-_3nxww20/scipy_31ff82658479466da63099d16ece80eb/.mesonpy-t3gs426b -Dbuildtype=release -Db_ndebug=if-release -Db_vscrt=md --native-file=/private/var/folders/q5/fqrty7td6kl2szjpqjp9v56r0000gn/T/pip-install-_3nxww20/scipy_31ff82658479466da63099d16ece80eb/.mesonpy-t3gs426b/meson-python-native-file.ini\u001b[0m\n",
      "  \u001b[31m   \u001b[0m The Meson build system\n",
      "  \u001b[31m   \u001b[0m Version: 1.7.0\n",
      "  \u001b[31m   \u001b[0m Source dir: /private/var/folders/q5/fqrty7td6kl2szjpqjp9v56r0000gn/T/pip-install-_3nxww20/scipy_31ff82658479466da63099d16ece80eb\n",
      "  \u001b[31m   \u001b[0m Build dir: /private/var/folders/q5/fqrty7td6kl2szjpqjp9v56r0000gn/T/pip-install-_3nxww20/scipy_31ff82658479466da63099d16ece80eb/.mesonpy-t3gs426b\n",
      "  \u001b[31m   \u001b[0m Build type: native build\n",
      "  \u001b[31m   \u001b[0m Project name: scipy\n",
      "  \u001b[31m   \u001b[0m Project version: 1.12.0\n",
      "  \u001b[31m   \u001b[0m C compiler for the host machine: cc (clang 15.0.0 \"Apple clang version 15.0.0 (clang-1500.3.9.4)\")\n",
      "  \u001b[31m   \u001b[0m C linker for the host machine: cc ld64 1053.12\n",
      "  \u001b[31m   \u001b[0m C++ compiler for the host machine: c++ (clang 15.0.0 \"Apple clang version 15.0.0 (clang-1500.3.9.4)\")\n",
      "  \u001b[31m   \u001b[0m C++ linker for the host machine: c++ ld64 1053.12\n",
      "  \u001b[31m   \u001b[0m Cython compiler for the host machine: cython (cython 3.0.11)\n",
      "  \u001b[31m   \u001b[0m Host machine cpu family: aarch64\n",
      "  \u001b[31m   \u001b[0m Host machine cpu: aarch64\n",
      "  \u001b[31m   \u001b[0m Program python found: YES (/Users/arturodz/Development/medirian/path/to/venv/bin/python3.13)\n",
      "  \u001b[31m   \u001b[0m Found pkg-config: YES (/opt/homebrew/bin/pkg-config) 2.3.0\n",
      "  \u001b[31m   \u001b[0m Run-time dependency python found: YES 3.13\n",
      "  \u001b[31m   \u001b[0m Program cython found: YES (/private/var/folders/q5/fqrty7td6kl2szjpqjp9v56r0000gn/T/pip-build-env-ko39ge1l/overlay/bin/cython)\n",
      "  \u001b[31m   \u001b[0m Compiler for C supports arguments -Wno-unused-but-set-variable: YES\n",
      "  \u001b[31m   \u001b[0m Compiler for C supports arguments -Wno-unused-function: YES\n",
      "  \u001b[31m   \u001b[0m Compiler for C supports arguments -Wno-conversion: YES\n",
      "  \u001b[31m   \u001b[0m Compiler for C supports arguments -Wno-misleading-indentation: YES\n",
      "  \u001b[31m   \u001b[0m Library m found: YES\n",
      "  \u001b[31m   \u001b[0m \n",
      "  \u001b[31m   \u001b[0m ../meson.build:80:0: ERROR: Compiler gfortran cannot compile programs.\n",
      "  \u001b[31m   \u001b[0m \n",
      "  \u001b[31m   \u001b[0m A full log can be found at /private/var/folders/q5/fqrty7td6kl2szjpqjp9v56r0000gn/T/pip-install-_3nxww20/scipy_31ff82658479466da63099d16ece80eb/.mesonpy-t3gs426b/meson-logs/meson-log.txt\n",
      "  \u001b[31m   \u001b[0m \u001b[31m[end of output]\u001b[0m\n",
      "  \n",
      "  \u001b[1;35mnote\u001b[0m: This error originates from a subprocess, and is likely not a problem with pip.\n",
      "\u001b[1;31merror\u001b[0m: \u001b[1mmetadata-generation-failed\u001b[0m\n",
      "\n",
      "\u001b[31m×\u001b[0m Encountered error while generating package metadata.\n",
      "\u001b[31m╰─>\u001b[0m See above for output.\n",
      "\n",
      "\u001b[1;35mnote\u001b[0m: This is an issue with the package mentioned above, not pip.\n",
      "\u001b[1;36mhint\u001b[0m: See above for details.\n",
      "\u001b[?25h"
     ]
    }
   ],
   "source": [
    "!pip install --upgrade \"google-meridian[colab] @ git+https://github.com/google/meridian.git\""
   ]
  },
  {
   "cell_type": "code",
   "execution_count": null,
   "id": "71326c15-bfc8-4e3f-b9ed-af572fc247a7",
   "metadata": {},
   "outputs": [],
   "source": [
    "import numpy as np\n",
    "import pandas as pd\n",
    "import tensorflow as tf\n",
    "import tensorflow_probability as tfp\n",
    "import arviz as az\n",
    "\n",
    "import IPython\n",
    "\n",
    "from meridian import constants\n",
    "from meridian.data import load\n",
    "from meridian.data import test_utils\n",
    "from meridian.model import model\n",
    "from meridian.model import spec\n",
    "from meridian.model import prior_distribution\n",
    "from meridian.analysis import optimizer\n",
    "from meridian.analysis import analyzer\n",
    "from meridian.analysis import visualizer\n",
    "from meridian.analysis import summarizer\n",
    "from meridian.analysis import formatter\n",
    "\n",
    "# check if GPU is available\n",
    "from psutil import virtual_memory\n",
    "ram_gb = virtual_memory().total / 1e9\n",
    "print('Your runtime has {:.1f} gigabytes of available RAM\\n'.format(ram_gb))\n",
    "print(\"Num GPUs Available: \", len(tf.config.experimental.list_physical_devices('GPU')))\n",
    "print(\"Num CPUs Available: \", len(tf.config.experimental.list_physical_devices('CPU')))"
   ]
  },
  {
   "cell_type": "code",
   "execution_count": null,
   "id": "5bd13a78-cbe9-4efd-baff-45c54eb62927",
   "metadata": {},
   "outputs": [],
   "source": [
    "coord_to_columns = load.CoordToColumns(\n",
    "    time='date',\n",
    "    # geo=None,  # No geographic column found in dataset\n",
    "    controls=[],  # Removed clicks_Search and spend_Search as controls since they are now media\n",
    "    # population=None,  # No explicit population column found\n",
    "    kpi='revenue',  # Assuming revenue is the primary KPI\n",
    "    # revenue_per_kpi=None,  # No explicit revenue per conversion column\n",
    "    media=[\n",
    "        'impressions_Facebook',\n",
    "        'impressions_TV',\n",
    "        'impressions_Youtube',\n",
    "        'impressions_OOH',\n",
    "        'impressions_Radio',\n",
    "        'impressions_ProgammaticRT',\n",
    "        'impressions_PMAX',\n",
    "        'clicks_Search',  # Added clicks from search as media\n",
    "    ],\n",
    "    media_spend=[\n",
    "        'spend_Facebook',\n",
    "        'spend_TV',\n",
    "        'spend_Youtube',\n",
    "        'spend_OOH',\n",
    "        'spend_Radio',\n",
    "        'spend_ProgammaticRT',\n",
    "        'spend_PMAX',\n",
    "        'spend_Search',  # Added search spend as media spend\n",
    "    ],\n",
    "    organic_media=None,  # No organic media impression columns found\n",
    "    non_media_treatments=['promo1', 'promo2'],  # Considering promotions as treatments\n",
    ")"
   ]
  },
  {
   "cell_type": "code",
   "execution_count": null,
   "id": "952bec5d-37d7-4d4c-ab46-d3a744b1e96a",
   "metadata": {},
   "outputs": [],
   "source": [
    "correct_media_to_channel = {\n",
    "    'impressions_Facebook': 'Facebook',\n",
    "    'impressions_TV': 'TV',\n",
    "    'impressions_Youtube': 'Youtube',\n",
    "    'impressions_OOH': 'OOH',\n",
    "    'impressions_Radio': 'Radio',\n",
    "    'impressions_ProgammaticRT': 'ProgammaticRT',\n",
    "    'impressions_PMAX': 'PMAX',\n",
    "    'clicks_Search': 'Search',  # Clicks are now a media channel\n",
    "}\n",
    "correct_media_spend_to_channel = {\n",
    "    'spend_Facebook': 'Facebook',\n",
    "    'spend_TV': 'TV',\n",
    "    'spend_Youtube': 'Youtube',\n",
    "    'spend_OOH': 'OOH',\n",
    "    'spend_Radio': 'Radio',\n",
    "    'spend_ProgammaticRT': 'ProgammaticRT',\n",
    "    'spend_PMAX': 'PMAX',\n",
    "    'spend_Search': 'Search',  # Search spend is now included as media spend\n",
    "}\n"
   ]
  },
  {
   "cell_type": "code",
   "execution_count": null,
   "id": "c9f28b83-0b84-4f83-a045-23897d27d3c8",
   "metadata": {},
   "outputs": [],
   "source": [
    "loader = load.CsvDataLoader(\n",
    "    csv_path=\"/content/weekly2_monday_aligned.csv\",\n",
    "    kpi_type='revenue',\n",
    "    coord_to_columns=coord_to_columns,\n",
    "    media_to_channel=correct_media_to_channel,\n",
    "    media_spend_to_channel=correct_media_spend_to_channel,\n",
    ")\n",
    "data = loader.load()"
   ]
  },
  {
   "cell_type": "code",
   "execution_count": null,
   "id": "770441f6-aaf3-44c2-8dcb-492a4cd66d89",
   "metadata": {},
   "outputs": [],
   "source": [
    "roi_mu = 0.15     # Mu for ROI prior for each media channel.\n",
    "roi_sigma = 0.9  # Sigma for ROI prior for each media channel.\n",
    "prior = prior_distribution.PriorDistribution(\n",
    "    roi_m=tfp.distributions.LogNormal(roi_mu, roi_sigma, name=constants.ROI_M)\n",
    ")\n",
    "model_spec = spec.ModelSpec(prior=prior)\n",
    "\n",
    "mmm = model.Meridian(input_data=data, model_spec=model_spec)"
   ]
  },
  {
   "cell_type": "code",
   "execution_count": null,
   "id": "4fcb2bfe-1a35-43ba-b020-49a761c9bc49",
   "metadata": {},
   "outputs": [],
   "source": [
    "%%time\n",
    "mmm.sample_prior(5000)\n",
    "mmm.sample_posterior(n_chains=7, n_adapt=500, n_burnin=500, n_keep=1000)"
   ]
  },
  {
   "cell_type": "code",
   "execution_count": null,
   "id": "f04703c9-7ea5-4783-86ed-a2e8478886d4",
   "metadata": {},
   "outputs": [],
   "source": [
    "model_diagnostics = visualizer.ModelDiagnostics(mmm)\n",
    "model_diagnostics.plot_rhat_boxplot()"
   ]
  },
  {
   "cell_type": "code",
   "execution_count": null,
   "id": "230ea1ec-49ca-46c7-94fb-f3917db9391f",
   "metadata": {},
   "outputs": [],
   "source": [
    "model_fit = visualizer.ModelFit(mmm)\n",
    "model_fit.plot_model_fit()"
   ]
  },
  {
   "cell_type": "code",
   "execution_count": null,
   "id": "fe2c463c-635a-43d1-b5cf-66403737327d",
   "metadata": {},
   "outputs": [],
   "source": [
    "mmm_summarizer = summarizer.Summarizer(mmm)"
   ]
  },
  {
   "cell_type": "code",
   "execution_count": null,
   "id": "42b1d7b7-3041-4bde-a9e8-36fd8e247b95",
   "metadata": {},
   "outputs": [],
   "source": [
    "filepath = '/Users/arturodz/Development/simmmulator/'\n",
    "start_date = '2021-01-25'\n",
    "end_date = '2024-01-15'\n",
    "mmm_summarizer.output_model_results_summary('summary_output.html', filepath, start_date, end_date)"
   ]
  }
 ],
 "metadata": {
  "kernelspec": {
   "display_name": "Python 3 (ipykernel)",
   "language": "python",
   "name": "python3"
  },
  "language_info": {
   "codemirror_mode": {
    "name": "ipython",
    "version": 3
   },
   "file_extension": ".py",
   "mimetype": "text/x-python",
   "name": "python",
   "nbconvert_exporter": "python",
   "pygments_lexer": "ipython3",
   "version": "3.13.1"
  }
 },
 "nbformat": 4,
 "nbformat_minor": 5
}
